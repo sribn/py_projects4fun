{
  "nbformat": 4,
  "nbformat_minor": 0,
  "metadata": {
    "colab": {
      "name": "string_challenge.ipynb",
      "provenance": [],
      "authorship_tag": "ABX9TyP2n5AiR04NTlrRxe/TgdP4"
    },
    "kernelspec": {
      "name": "python3",
      "display_name": "Python 3"
    },
    "language_info": {
      "name": "python"
    }
  },
  "cells": [
    {
      "cell_type": "code",
      "metadata": {
        "id": "iIMuQbnUPrnd"
      },
      "source": [
        "# a challenge to convert alphabetic characters to the next character in order (i.e: a to b, ..., z to a )\n",
        "# and to turn every vowel characters to uppercase\n",
        "\n",
        "def StringChallenge(inp):      # define function\n",
        "\n",
        "  inp = list(inp)                   # turn input to list\n",
        "  vowels = \"aiueo\"                  # define vowels and\n",
        "  caps = vowels.upper()             # uppercased vowels\n",
        "  s = []\n",
        "  \n",
        "  for i in inp:                     \n",
        "    if i != \"z\" and i.isalpha():    # check if character is alhabetical and not \"z\"\n",
        "      a = ord(i)                    # converts character to unicode\n",
        "      i = chr(a+1)                  # +1 to unicode (next alphabetical order) and converts back to character\n",
        "      s.append(i)                   # append unicodes\n",
        "    elif i == \"z\":                  # if character is \"z\"\n",
        "      s.append(\"a\")                 # add as \"a\" instead\n",
        "    else:\n",
        "      s.append(i)\n",
        "\n",
        "  inp = \"\".join(s).translate(str.maketrans(vowels, caps))   # join all characters\n",
        "                                             # turn lowercase vowels to uppercase\n",
        "\n",
        "  return inp"
      ],
      "execution_count": 6,
      "outputs": []
    },
    {
      "cell_type": "code",
      "metadata": {
        "colab": {
          "base_uri": "https://localhost:8080/",
          "height": 35
        },
        "id": "MIYfVjqCSu8t",
        "outputId": "a2ecd4f8-061e-4f62-ad9b-6fbfef3f53a4"
      },
      "source": [
        "StringChallenge(\"abcefgzdhnt\")"
      ],
      "execution_count": 7,
      "outputs": [
        {
          "output_type": "execute_result",
          "data": {
            "application/vnd.google.colaboratory.intrinsic+json": {
              "type": "string"
            },
            "text/plain": [
              "'bcdfghAEIOU'"
            ]
          },
          "metadata": {},
          "execution_count": 7
        }
      ]
    }
  ]
}
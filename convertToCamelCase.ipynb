{
  "nbformat": 4,
  "nbformat_minor": 0,
  "metadata": {
    "colab": {
      "name": "convertToCamelCase.ipynb",
      "provenance": [],
      "authorship_tag": "ABX9TyOrYUL/gylp81v1YsImoVvg"
    },
    "kernelspec": {
      "name": "python3",
      "display_name": "Python 3"
    },
    "language_info": {
      "name": "python"
    }
  },
  "cells": [
    {
      "cell_type": "code",
      "metadata": {
        "id": "6DLM1F2iK4h0"
      },
      "source": [
        "def camelCase(inp):\n",
        "  import re # import regular expression\n",
        "\n",
        "  s = re.findall(\"[a-zA-Z0-9]+\", inp) # find all alphabet and numeric char + space\n",
        "\n",
        "  for i in range (1, len(s)): # capitalize each word\n",
        "    s[i] = s[i].capitalize()\n",
        "    \n",
        "  st = \"\"\n",
        "  for i in range(len(s)): # append capitalized words\n",
        "    st += s[i]\n",
        "\n",
        "  return st"
      ],
      "execution_count": 7,
      "outputs": []
    },
    {
      "cell_type": "code",
      "metadata": {
        "colab": {
          "base_uri": "https://localhost:8080/",
          "height": 35
        },
        "id": "jaxmKfZDLC2X",
        "outputId": "98c51c6d-a00e-407b-b24d-e83957b28683"
      },
      "source": [
        "camelCase(\"the quick brwon fox jumped over my grave\")"
      ],
      "execution_count": 8,
      "outputs": [
        {
          "output_type": "execute_result",
          "data": {
            "application/vnd.google.colaboratory.intrinsic+json": {
              "type": "string"
            },
            "text/plain": [
              "'theQuickBrwonFoxJumpedOverMyGrave'"
            ]
          },
          "metadata": {},
          "execution_count": 8
        }
      ]
    }
  ]
}
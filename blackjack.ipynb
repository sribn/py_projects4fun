{
  "nbformat": 4,
  "nbformat_minor": 0,
  "metadata": {
    "colab": {
      "name": "blackjack.ipynb",
      "provenance": [],
      "authorship_tag": "ABX9TyNkvsEnQl5XwKdG/bY7yhNo"
    },
    "kernelspec": {
      "name": "python3",
      "display_name": "Python 3"
    },
    "language_info": {
      "name": "python"
    }
  },
  "cells": [
    {
      "cell_type": "code",
      "metadata": {
        "id": "eUOjGTnCU6Dh"
      },
      "source": [
        "# return which hand holds greater score\n",
        "# In order for a hand to win, the following must be true:\n",
        "#    - The total score must not exceed 21 \n",
        "#    - The total score of a hand must exceed the other hand  \n",
        "# Face cards ('J', 'Q', and 'K') are worth 10 points. 'A' can count for 1 or 11.\n",
        "\n",
        "def blackjack(hand_1, hand_2):      # define function of 2 lists\n",
        "    \n",
        "    def helper(cards):              # define helper function\n",
        "        values = {'J':10, 'K':10, 'Q':10, 'A':11,     # add each card's score\n",
        "          '1':1, '2':2, '3':3, '4':4, '5':5,          # in a dictionary\n",
        "          '6':6, '7':7, '8':8, '9':9, '10':10}        # *initially value A as 11\n",
        "\n",
        "        score = 0                   # initial score\n",
        "\n",
        "        for card in cards:          # check each card in the list\n",
        "            score += (values[card]) # add values of each card as score\n",
        "            if score >= 21:         # if total score >= 21, value A as 1\n",
        "                values['A'] = 1\n",
        "                score = 0           # reset score\n",
        "                for card_new in cards:            # recalculate score\n",
        "                    score += (values[card_new])\n",
        "\n",
        "        return score\n",
        "    \n",
        "    hand_1 = helper(hand_1)   # calculate score in blackjack function\n",
        "    hand_2 = helper(hand_2)\n",
        "    \n",
        "    # define condition to win\n",
        "    if (hand_1 > hand_2 or hand_2 > 21) and hand_1 <= 21:\n",
        "      print(\"Hand 1 Win\")\n",
        "    elif hand_1 == hand_2:\n",
        "      print(\"Draw\")\n",
        "    else:\n",
        "      print(\"Hand 2 Win\")"
      ],
      "execution_count": 5,
      "outputs": []
    },
    {
      "cell_type": "code",
      "metadata": {
        "colab": {
          "base_uri": "https://localhost:8080/"
        },
        "id": "ykstfXCPXPEV",
        "outputId": "ddb10971-3f04-4886-9bd2-e24af0041fbc"
      },
      "source": [
        "blackjack([\"A\", \"J\", \"10\", \"2\" ], [\"J\", \"K\", \"A\"])"
      ],
      "execution_count": 6,
      "outputs": [
        {
          "output_type": "stream",
          "text": [
            "Hand 2 Win\n"
          ],
          "name": "stdout"
        }
      ]
    }
  ]
}
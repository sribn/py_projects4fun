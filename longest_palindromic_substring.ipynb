{
  "nbformat": 4,
  "nbformat_minor": 0,
  "metadata": {
    "colab": {
      "name": "longest palindromic substring.ipynb",
      "provenance": [],
      "authorship_tag": "ABX9TyP/rhGN1WSZDGg5YCn0fr39"
    },
    "kernelspec": {
      "name": "python3",
      "display_name": "Python 3"
    },
    "language_info": {
      "name": "python"
    }
  },
  "cells": [
    {
      "cell_type": "code",
      "metadata": {
        "id": "wt31n9zIMAFJ"
      },
      "source": [
        "def long_palindrome(inp):             # define longest palindromic function\n",
        "  \n",
        "  def expand(inp, l, r):              # define helper function (to expand index)\n",
        "    while l >= 0 and r < len(inp) and inp[l] == inp[r]: # while index is within length and the character is equal\n",
        "      l -= 1                          # index goes to left if condition met\n",
        "      r += 1                          # index goes to right if condition met\n",
        "    return inp[l+1:r]                 # return characters from left to right index\n",
        "\n",
        "  longest = \"\"\n",
        "  for i in range(len(inp)):           # expand index\n",
        "    odd = expand(inp, i, i)           # expand input when total char is odd\n",
        "    even = expand(inp, i, i+1)        # expand input when total char is even\n",
        "  \n",
        "    longest = max(longest, odd, even, key=len)      # return longest substring\n",
        "\n",
        "  return longest\n"
      ],
      "execution_count": null,
      "outputs": []
    },
    {
      "cell_type": "code",
      "metadata": {
        "colab": {
          "base_uri": "https://localhost:8080/",
          "height": 35
        },
        "id": "EgancKnPNEPn",
        "outputId": "b3f396d6-3d3b-4594-cb84-8ed5795bc699"
      },
      "source": [
        "long_palindrome(\"xxracecarkepaxsayabhinneka\")"
      ],
      "execution_count": null,
      "outputs": [
        {
          "output_type": "execute_result",
          "data": {
            "application/vnd.google.colaboratory.intrinsic+json": {
              "type": "string"
            },
            "text/plain": [
              "'racecar'"
            ]
          },
          "metadata": {},
          "execution_count": 5
        }
      ]
    }
  ]
}